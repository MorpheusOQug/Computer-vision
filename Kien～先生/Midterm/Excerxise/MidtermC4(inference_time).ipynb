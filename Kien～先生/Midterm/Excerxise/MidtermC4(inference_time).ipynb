{
 "cells": [
  {
   "cell_type": "code",
   "execution_count": 23,
   "metadata": {},
   "outputs": [],
   "source": [
    "import torch\n",
    "import torchvision\n",
    "from torchvision.transforms import Compose, ToTensor, Normalize, Resize\n",
    "from torchvision.transforms import functional as F\n",
    "from transformers import DetrForObjectDetection, DetrImageProcessor\n",
    "from PIL import Image\n",
    "from prettytable import PrettyTable\n",
    "from ultralytics import YOLO\n",
    "import time"
   ]
  },
  {
   "cell_type": "code",
   "execution_count": 24,
   "metadata": {},
   "outputs": [],
   "source": [
    "# Initialize table to record inference times\n",
    "table = PrettyTable()\n",
    "table.field_names = [\"Model\", \"Inference Time (s)\"]"
   ]
  },
  {
   "cell_type": "code",
   "execution_count": 25,
   "metadata": {},
   "outputs": [],
   "source": [
    "# Load image and preprocess\n",
    "image_path = \"/home/ubuntu_qa/codevs/Computer vision/Kien～先生/Cloud/Image02.jpg\"\n",
    "image = Image.open(image_path).convert(\"RGB\")"
   ]
  },
  {
   "cell_type": "code",
   "execution_count": 26,
   "metadata": {},
   "outputs": [],
   "source": [
    "# ---------- Faster R-CNN ----------\n",
    "model_faster_rcnn = torchvision.models.detection.fasterrcnn_resnet50_fpn(pretrained=True)\n",
    "model_faster_rcnn.eval()\n",
    "\n",
    "transformed_image = F.to_tensor(image).unsqueeze(0)  \n",
    "start_time = time.time()\n",
    "with torch.no_grad():\n",
    "    outputs_faster_rcnn = model_faster_rcnn(transformed_image)\n",
    "end_time = time.time()\n",
    "table.add_row([\"Faster R-CNN\", f\"{end_time - start_time:.4f}\"])"
   ]
  },
  {
   "cell_type": "code",
   "execution_count": 27,
   "metadata": {},
   "outputs": [
    {
     "name": "stderr",
     "output_type": "stream",
     "text": [
      "Some weights of the model checkpoint at facebook/detr-resnet-50 were not used when initializing DetrForObjectDetection: ['model.backbone.conv_encoder.model.layer1.0.downsample.1.num_batches_tracked', 'model.backbone.conv_encoder.model.layer2.0.downsample.1.num_batches_tracked', 'model.backbone.conv_encoder.model.layer3.0.downsample.1.num_batches_tracked', 'model.backbone.conv_encoder.model.layer4.0.downsample.1.num_batches_tracked']\n",
      "- This IS expected if you are initializing DetrForObjectDetection from the checkpoint of a model trained on another task or with another architecture (e.g. initializing a BertForSequenceClassification model from a BertForPreTraining model).\n",
      "- This IS NOT expected if you are initializing DetrForObjectDetection from the checkpoint of a model that you expect to be exactly identical (initializing a BertForSequenceClassification model from a BertForSequenceClassification model).\n"
     ]
    }
   ],
   "source": [
    "# ---------- DETR ----------\n",
    "processor = DetrImageProcessor.from_pretrained(\"facebook/detr-resnet-50\")\n",
    "model_detr = DetrForObjectDetection.from_pretrained(\"facebook/detr-resnet-50\")\n",
    "model_detr.eval()\n",
    "\n",
    "start_time = time.time()\n",
    "inputs_detr = processor(images=image, return_tensors=\"pt\")\n",
    "outputs_detr = model_detr(**inputs_detr)\n",
    "end_time = time.time()\n",
    "table.add_row([\"DETR\", f\"{end_time - start_time:.4f}\"])"
   ]
  },
  {
   "cell_type": "code",
   "execution_count": 28,
   "metadata": {},
   "outputs": [
    {
     "name": "stdout",
     "output_type": "stream",
     "text": [
      "PRO TIP 💡 Replace 'model=./yolov5s.pt' with new 'model=./yolov5su.pt'.\n",
      "YOLOv5 'u' models are trained with https://github.com/ultralytics/ultralytics and feature improved performance vs standard YOLOv5 models trained with https://github.com/ultralytics/yolov5.\n",
      "\n",
      "\n",
      "0: 640x640 1 cat, 1 chair, 76.1ms\n",
      "Speed: 4.3ms preprocess, 76.1ms inference, 3.3ms postprocess per image at shape (1, 3, 640, 640)\n"
     ]
    }
   ],
   "source": [
    "# ---------- YOLOv5 ----------\n",
    "model_yolov5 = YOLO('./yolov5s.pt')  \n",
    "model_yolov5.eval()\n",
    "\n",
    "# Preprocessing for YOLOv5\n",
    "transform_yolo = Compose([\n",
    "    Resize((640, 640)), \n",
    "    ToTensor(),         \n",
    "    Normalize(mean=[0.0, 0.0, 0.0], std=[1.0, 1.0, 1.0]) \n",
    "])\n",
    "transformed_image_yolo = transform_yolo(image).unsqueeze(0)  \n",
    "\n",
    "start_time = time.time()\n",
    "with torch.no_grad():\n",
    "    outputs_yolo = model_yolov5(transformed_image_yolo)\n",
    "end_time = time.time()\n",
    "table.add_row([\"YOLOv5\", f\"{end_time - start_time:.4f}\"])"
   ]
  },
  {
   "cell_type": "code",
   "execution_count": 29,
   "metadata": {},
   "outputs": [
    {
     "name": "stdout",
     "output_type": "stream",
     "text": [
      "+--------------+--------------------+\n",
      "|    Model     | Inference Time (s) |\n",
      "+--------------+--------------------+\n",
      "| Faster R-CNN |       1.0380       |\n",
      "|     DETR     |       0.8038       |\n",
      "|    YOLOv5    |       0.4483       |\n",
      "+--------------+--------------------+\n"
     ]
    }
   ],
   "source": [
    "print(table)"
   ]
  }
 ],
 "metadata": {
  "kernelspec": {
   "display_name": "Python 3",
   "language": "python",
   "name": "python3"
  },
  "language_info": {
   "codemirror_mode": {
    "name": "ipython",
    "version": 3
   },
   "file_extension": ".py",
   "mimetype": "text/x-python",
   "name": "python",
   "nbconvert_exporter": "python",
   "pygments_lexer": "ipython3",
   "version": "3.10.12"
  }
 },
 "nbformat": 4,
 "nbformat_minor": 2
}
